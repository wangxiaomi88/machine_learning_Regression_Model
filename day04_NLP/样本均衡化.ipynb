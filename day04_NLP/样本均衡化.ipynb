{
 "cells": [
  {
   "cell_type": "code",
   "execution_count": 39,
   "id": "48568dc9",
   "metadata": {},
   "outputs": [],
   "source": [
    "import numpy as np\n",
    "import pandas as pd\n",
    "\n",
    "import sklearn.datasets as sd\n",
    "import sklearn.feature_extraction.text as ft\n",
    "import sklearn.model_selection as ms\n",
    "import sklearn.linear_model as lm\n",
    "import sklearn.tree as st\n",
    "import sklearn.ensemble as se\n",
    "import sklearn.naive_bayes as nb\n",
    "import sklearn.svm as svm\n",
    "import sklearn.metrics as sm\n",
    "\n",
    "import nltk.tokenize as tk\n",
    "import jieba\n",
    "jieba.load_userdict(\"mydict.txt\")"
   ]
  },
  {
   "cell_type": "code",
   "execution_count": 40,
   "id": "5b3385f8",
   "metadata": {},
   "outputs": [
    {
     "data": {
      "text/plain": [
       "Index(['label', 'review'], dtype='object')"
      ]
     },
     "execution_count": 40,
     "metadata": {},
     "output_type": "execute_result"
    }
   ],
   "source": [
    "data = pd.read_csv(\"htl_all.csv\")\n",
    "data[\"label\"].value_counts()\n",
    "data.columns"
   ]
  },
  {
   "cell_type": "code",
   "execution_count": 41,
   "id": "baaf95cd",
   "metadata": {},
   "outputs": [
    {
     "data": {
      "text/plain": [
       "1    2443\n",
       "0    2443\n",
       "Name: label, dtype: int64"
      ]
     },
     "execution_count": 41,
     "metadata": {},
     "output_type": "execute_result"
    }
   ],
   "source": [
    "def func(item):\n",
    "    # 分词\n",
    "    seg_list = jieba.cut(item)\n",
    "    return \" \".join(seg_list)\n",
    "\n",
    "\n",
    "\n",
    "data[\"new_reviews\"] = data[\"review\"].apply(func)\n",
    "data = data.tail((data[\"label\"]==0).sum()*2)\n",
    "\n",
    "data[\"label\"].value_counts()"
   ]
  },
  {
   "cell_type": "code",
   "execution_count": null,
   "id": "bba251c4",
   "metadata": {},
   "outputs": [],
   "source": []
  },
  {
   "cell_type": "code",
   "execution_count": 42,
   "id": "cc97b189",
   "metadata": {},
   "outputs": [
    {
     "name": "stdout",
     "output_type": "stream",
     "text": [
      "0.862797500948426\n",
      "              precision    recall  f1-score   support\n",
      "\n",
      "           0       0.87      0.89      0.88       244\n",
      "           1       0.89      0.87      0.88       245\n",
      "\n",
      "    accuracy                           0.88       489\n",
      "   macro avg       0.88      0.88      0.88       489\n",
      "weighted avg       0.88      0.88      0.88       489\n",
      "\n"
     ]
    }
   ],
   "source": [
    "# 整理输入集与输出集\n",
    "cv = ft.CountVectorizer()\n",
    "bow = cv.fit_transform(data[\"new_reviews\"]) #按空格间隔词的形式作为输入，可转换为词袋矩阵bow\n",
    "\n",
    "tt = ft.TfidfTransformer()\n",
    "tfidf = tt.fit_transform(bow)\n",
    "\n",
    "\n",
    "\n",
    "# 拆分测试集与训练集\n",
    "train_x,test_x,train_y,test_y=\\\n",
    "    ms.train_test_split(tfidf,data[\"label\"],test_size=0.1,stratify=data[\"label\"],random_state=7)\n",
    "\n",
    "\n",
    "\n",
    "\n",
    "\n",
    "# 交叉验证\n",
    "# model_NB = lm.LogisticRegression()\n",
    "# model_NB = svm.SVC(kernel=\"linear\",C=1,probability=True) #再SVM模型中，设置probability用于之后可以输出置信概率矩阵，其他模型不需要设置该项\n",
    "# model_NB = st.DecisionTreeClassifier(max_depth=10,min_samples_split=3,class_weight=\"balanced\",random_state=7) \n",
    "#不少模型通过设置class_weighted参数来弥补不同类别样本数量不平衡的问题，朴素贝叶斯模型无此参数！\n",
    "# model_NB = se.RandomForestClassifier(max_depth=10,min_samples_split=3,n_estimators=200,random_state=7)\n",
    "\n",
    "# score_f1 = ms.cross_val_score(model_NB,train_x,train_y,cv=5,scoring=\"f1_weighted\")\n",
    "# print(score_f1.mean())\n",
    "\n",
    "\n",
    "#使用朴素贝叶斯模型\n",
    "model_NB = nb.MultinomialNB()\n",
    "score_f1 = ms.cross_val_score(model_NB,train_x,train_y,cv=5,scoring=\"f1_weighted\")\n",
    "print(score_f1.mean())\n",
    "\n",
    "\n",
    "\n",
    "#训练模型\n",
    "model_NB.fit(train_x,train_y)\n",
    "\n",
    "\n",
    "#测试模型，评估模型\n",
    "pred_test_y = model_NB.predict(test_x)\n",
    "print(sm.classification_report(test_y,pred_test_y))\n",
    "\n"
   ]
  },
  {
   "cell_type": "code",
   "execution_count": 51,
   "id": "818864fb",
   "metadata": {},
   "outputs": [
    {
     "data": {
      "text/html": [
       "<div>\n",
       "<style scoped>\n",
       "    .dataframe tbody tr th:only-of-type {\n",
       "        vertical-align: middle;\n",
       "    }\n",
       "\n",
       "    .dataframe tbody tr th {\n",
       "        vertical-align: top;\n",
       "    }\n",
       "\n",
       "    .dataframe thead th {\n",
       "        text-align: right;\n",
       "    }\n",
       "</style>\n",
       "<table border=\"1\" class=\"dataframe\">\n",
       "  <thead>\n",
       "    <tr style=\"text-align: right;\">\n",
       "      <th></th>\n",
       "      <th>reviews</th>\n",
       "      <th>seg</th>\n",
       "    </tr>\n",
       "  </thead>\n",
       "  <tbody>\n",
       "    <tr>\n",
       "      <th>0</th>\n",
       "      <td>房间很宽敞，价格不贵</td>\n",
       "      <td>房间 很 宽敞 ， 价格 不 贵</td>\n",
       "    </tr>\n",
       "    <tr>\n",
       "      <th>1</th>\n",
       "      <td>睡得不舒服，早餐太贵且不好吃,差评</td>\n",
       "      <td>睡得 不舒服 ， 早餐 太贵 且 不好吃 , 差评</td>\n",
       "    </tr>\n",
       "    <tr>\n",
       "      <th>2</th>\n",
       "      <td>总体还行，考虑到携程上有红包优惠</td>\n",
       "      <td>总体 还 行 ， 考虑 到 携程 上 有 红包 优惠</td>\n",
       "    </tr>\n",
       "    <tr>\n",
       "      <th>3</th>\n",
       "      <td>设施不齐全，下次再也来了。</td>\n",
       "      <td>设施 不齐全 ， 下次 再也 来 了 。</td>\n",
       "    </tr>\n",
       "    <tr>\n",
       "      <th>4</th>\n",
       "      <td>地板脏，空调漏水，下次不会再来了！</td>\n",
       "      <td>地板 脏 ， 空调 漏水 ， 下次 不会 再来 了 ！</td>\n",
       "    </tr>\n",
       "    <tr>\n",
       "      <th>5</th>\n",
       "      <td>一般，凑合，马马虎虎</td>\n",
       "      <td>一般 ， 凑合 ， 马马虎虎</td>\n",
       "    </tr>\n",
       "  </tbody>\n",
       "</table>\n",
       "</div>"
      ],
      "text/plain": [
       "             reviews                          seg\n",
       "0         房间很宽敞，价格不贵             房间 很 宽敞 ， 价格 不 贵\n",
       "1  睡得不舒服，早餐太贵且不好吃,差评    睡得 不舒服 ， 早餐 太贵 且 不好吃 , 差评\n",
       "2   总体还行，考虑到携程上有红包优惠   总体 还 行 ， 考虑 到 携程 上 有 红包 优惠\n",
       "3      设施不齐全，下次再也来了。         设施 不齐全 ， 下次 再也 来 了 。\n",
       "4  地板脏，空调漏水，下次不会再来了！  地板 脏 ， 空调 漏水 ， 下次 不会 再来 了 ！\n",
       "5         一般，凑合，马马虎虎               一般 ， 凑合 ， 马马虎虎"
      ]
     },
     "execution_count": 51,
     "metadata": {},
     "output_type": "execute_result"
    }
   ],
   "source": [
    "new_comment=[\"房间很宽敞，价格不贵\",\n",
    "             \"睡得不舒服，早餐太贵且不好吃,差评\",\n",
    "             \"总体还行，考虑到携程上有红包优惠\",\n",
    "             \"设施不齐全，下次再也来了。\",\n",
    "             \"地板脏，空调漏水，下次不会再来了！\",\n",
    "             \"一般，凑合，马马虎虎\"]\n",
    "\n",
    "new_comment = pd.DataFrame(new_comment,columns=[\"reviews\"])\n",
    "new_comment[\"seg\"] = new_comment[\"reviews\"].apply(func)\n",
    "new_comment"
   ]
  },
  {
   "cell_type": "code",
   "execution_count": 54,
   "id": "074e410f",
   "metadata": {},
   "outputs": [
    {
     "name": "stdout",
     "output_type": "stream",
     "text": [
      "1 : [0.1479043 0.8520957]\n",
      "1 : [0.57944012 0.42055988]\n",
      "0 : [0.39309168 0.60690832]\n",
      "1 : [0.70030885 0.29969115]\n",
      "0 : [0.79498323 0.20501677]\n",
      "1 : [0.60479671 0.39520329]\n"
     ]
    }
   ],
   "source": [
    "# 把样本按照训练时 的方式转换为tfidf矩阵，才可以交给模型训练\n",
    "bow = cv.transform(new_comment[\"seg\"])\n",
    "test_data = tt.transform(bow)\n",
    "\n",
    "pred_test_data = model_NB.predict(test_data)\n",
    "\n",
    "#输出置信概率\n",
    "pred_prob_y = model_NB.predict_proba(test_data)\n",
    "\n",
    "for b,c in zip(pred_test_y,pred_prob_y):\n",
    "    print(b,\":\",c)"
   ]
  },
  {
   "cell_type": "code",
   "execution_count": null,
   "id": "56c9bac3",
   "metadata": {},
   "outputs": [],
   "source": []
  },
  {
   "cell_type": "code",
   "execution_count": null,
   "id": "2897cbc7",
   "metadata": {},
   "outputs": [],
   "source": []
  },
  {
   "cell_type": "code",
   "execution_count": null,
   "id": "854552d1",
   "metadata": {},
   "outputs": [],
   "source": []
  },
  {
   "cell_type": "code",
   "execution_count": null,
   "id": "b616bfcf",
   "metadata": {},
   "outputs": [],
   "source": []
  },
  {
   "cell_type": "code",
   "execution_count": null,
   "id": "51df19c5",
   "metadata": {},
   "outputs": [],
   "source": []
  },
  {
   "cell_type": "code",
   "execution_count": null,
   "id": "c0f1ff7b",
   "metadata": {},
   "outputs": [],
   "source": []
  }
 ],
 "metadata": {
  "kernelspec": {
   "display_name": "Python 3 (ipykernel)",
   "language": "python",
   "name": "python3"
  },
  "language_info": {
   "codemirror_mode": {
    "name": "ipython",
    "version": 3
   },
   "file_extension": ".py",
   "mimetype": "text/x-python",
   "name": "python",
   "nbconvert_exporter": "python",
   "pygments_lexer": "ipython3",
   "version": "3.9.4"
  }
 },
 "nbformat": 4,
 "nbformat_minor": 5
}
