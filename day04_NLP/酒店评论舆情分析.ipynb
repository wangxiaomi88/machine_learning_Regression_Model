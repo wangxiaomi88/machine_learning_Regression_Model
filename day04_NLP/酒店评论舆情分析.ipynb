{
 "cells": [
  {
   "cell_type": "code",
   "execution_count": 1,
   "id": "48568dc9",
   "metadata": {},
   "outputs": [
    {
     "name": "stderr",
     "output_type": "stream",
     "text": [
      "Building prefix dict from the default dictionary ...\n",
      "Loading model from cache C:\\Users\\WJ\\AppData\\Local\\Temp\\jieba.cache\n",
      "Loading model cost 0.745 seconds.\n",
      "Prefix dict has been built successfully.\n"
     ]
    }
   ],
   "source": [
    "import numpy as np\n",
    "import pandas as pd\n",
    "\n",
    "import sklearn.datasets as sd\n",
    "import sklearn.preprocessing as sp\n",
    "import sklearn.feature_extraction.text as ft\n",
    "import sklearn.model_selection as ms\n",
    "import sklearn.linear_model as lm\n",
    "import sklearn.tree as st\n",
    "import sklearn.ensemble as se\n",
    "import sklearn.naive_bayes as nb\n",
    "import sklearn.svm as svm\n",
    "import sklearn.metrics as sm\n",
    "\n",
    "import nltk.tokenize as tk\n",
    "import jieba\n",
    "jieba.load_userdict(\"mydict.txt\")"
   ]
  },
  {
   "cell_type": "code",
   "execution_count": 84,
   "id": "5b3385f8",
   "metadata": {},
   "outputs": [
    {
     "data": {
      "text/plain": [
       "Index(['label', 'review'], dtype='object')"
      ]
     },
     "execution_count": 84,
     "metadata": {},
     "output_type": "execute_result"
    }
   ],
   "source": [
    "data = pd.read_csv(\"htl_all.csv\")\n",
    "data[\"label\"].value_counts()\n",
    "data.columns"
   ]
  },
  {
   "cell_type": "code",
   "execution_count": 85,
   "id": "baaf95cd",
   "metadata": {},
   "outputs": [
    {
     "data": {
      "text/html": [
       "<div>\n",
       "<style scoped>\n",
       "    .dataframe tbody tr th:only-of-type {\n",
       "        vertical-align: middle;\n",
       "    }\n",
       "\n",
       "    .dataframe tbody tr th {\n",
       "        vertical-align: top;\n",
       "    }\n",
       "\n",
       "    .dataframe thead th {\n",
       "        text-align: right;\n",
       "    }\n",
       "</style>\n",
       "<table border=\"1\" class=\"dataframe\">\n",
       "  <thead>\n",
       "    <tr style=\"text-align: right;\">\n",
       "      <th></th>\n",
       "      <th>label</th>\n",
       "      <th>review</th>\n",
       "      <th>new_reviews</th>\n",
       "    </tr>\n",
       "  </thead>\n",
       "  <tbody>\n",
       "    <tr>\n",
       "      <th>0</th>\n",
       "      <td>1</td>\n",
       "      <td>距离川沙公路较近,但是公交指示不对,如果是\"蔡陆线\"的话,会非常麻烦.建议用别的路线.房间较...</td>\n",
       "      <td>距离 川沙 公路 较近 , 但是 公交 指示 不 对 , 如果 是 \" 蔡陆线 \" 的话 ,...</td>\n",
       "    </tr>\n",
       "    <tr>\n",
       "      <th>1</th>\n",
       "      <td>1</td>\n",
       "      <td>商务大床房，房间很大，床有2M宽，整体感觉经济实惠不错!</td>\n",
       "      <td>商务 大床房 ， 房间 很大 ， 床有 2M 宽 ， 整体 感觉 经济 实惠 不错 !</td>\n",
       "    </tr>\n",
       "    <tr>\n",
       "      <th>2</th>\n",
       "      <td>1</td>\n",
       "      <td>早餐太差，无论去多少人，那边也不加食品的。酒店应该重视一下这个问题了。房间本身很好。</td>\n",
       "      <td>早餐 太 差 ， 无论 去 多少 人 ， 那边 也 不加 食品 的 。 酒店 应该 重视 一...</td>\n",
       "    </tr>\n",
       "    <tr>\n",
       "      <th>3</th>\n",
       "      <td>1</td>\n",
       "      <td>宾馆在小街道上，不大好找，但还好北京热心同胞很多~宾馆设施跟介绍的差不多，房间很小，确实挺小...</td>\n",
       "      <td>宾馆 在 小 街道 上 ， 不大好 找 ， 但 还好 北京 热心 同胞 很多 ~ 宾馆 设施...</td>\n",
       "    </tr>\n",
       "    <tr>\n",
       "      <th>4</th>\n",
       "      <td>1</td>\n",
       "      <td>CBD中心,周围没什么店铺,说5星有点勉强.不知道为什么卫生间没有电吹风</td>\n",
       "      <td>CBD 中心 , 周围 没什么 店铺 , 说 5 星 有点 勉强 . 不 知道 为什么 卫生...</td>\n",
       "    </tr>\n",
       "    <tr>\n",
       "      <th>...</th>\n",
       "      <td>...</td>\n",
       "      <td>...</td>\n",
       "      <td>...</td>\n",
       "    </tr>\n",
       "    <tr>\n",
       "      <th>7760</th>\n",
       "      <td>0</td>\n",
       "      <td>尼斯酒店的几大特点：噪音大、环境差、配置低、服务效率低。如：1、隔壁歌厅的声音闹至午夜3点许...</td>\n",
       "      <td>尼斯 酒店 的 几大 特点 ： 噪音 大 、 环境 差 、 配置 低 、 服务 效率 低 。...</td>\n",
       "    </tr>\n",
       "    <tr>\n",
       "      <th>7761</th>\n",
       "      <td>0</td>\n",
       "      <td>盐城来了很多次，第一次住盐阜宾馆，我的确很失望整个墙壁黑咕隆咚的，好像被烟熏过一样家具非常的...</td>\n",
       "      <td>盐城 来 了 很 多次 ， 第一次 住 盐阜 宾馆 ， 我 的确 很 失望 整个 墙壁 黑咕...</td>\n",
       "    </tr>\n",
       "    <tr>\n",
       "      <th>7762</th>\n",
       "      <td>0</td>\n",
       "      <td>看照片觉得还挺不错的，又是4星级的，但入住以后除了后悔没有别的，房间挺大但空空的，早餐是有但...</td>\n",
       "      <td>看 照片 觉得 还 挺不错 的 ， 又 是 4 星级 的 ， 但 入住 以后 除了 后悔 没...</td>\n",
       "    </tr>\n",
       "    <tr>\n",
       "      <th>7763</th>\n",
       "      <td>0</td>\n",
       "      <td>我们去盐城的时候那里的最低气温只有4度，晚上冷得要死，居然还不开空调，投诉到酒店客房部，得到...</td>\n",
       "      <td>我们 去 盐城 的 时候 那里 的 最低气温 只有 4 度 ， 晚上 冷得 要死 ， 居然 ...</td>\n",
       "    </tr>\n",
       "    <tr>\n",
       "      <th>7764</th>\n",
       "      <td>0</td>\n",
       "      <td>说实在的我很失望，之前看了其他人的点评后觉得还可以才去的，结果让我们大跌眼镜。我想这家酒店以...</td>\n",
       "      <td>说 实在 的 我 很 失望 ， 之前 看 了 其他人 的 点评 后 觉得 还 可以 才 去 ...</td>\n",
       "    </tr>\n",
       "  </tbody>\n",
       "</table>\n",
       "<p>7765 rows × 3 columns</p>\n",
       "</div>"
      ],
      "text/plain": [
       "      label                                             review  \\\n",
       "0         1  距离川沙公路较近,但是公交指示不对,如果是\"蔡陆线\"的话,会非常麻烦.建议用别的路线.房间较...   \n",
       "1         1                       商务大床房，房间很大，床有2M宽，整体感觉经济实惠不错!   \n",
       "2         1         早餐太差，无论去多少人，那边也不加食品的。酒店应该重视一下这个问题了。房间本身很好。   \n",
       "3         1  宾馆在小街道上，不大好找，但还好北京热心同胞很多~宾馆设施跟介绍的差不多，房间很小，确实挺小...   \n",
       "4         1               CBD中心,周围没什么店铺,说5星有点勉强.不知道为什么卫生间没有电吹风   \n",
       "...     ...                                                ...   \n",
       "7760      0  尼斯酒店的几大特点：噪音大、环境差、配置低、服务效率低。如：1、隔壁歌厅的声音闹至午夜3点许...   \n",
       "7761      0  盐城来了很多次，第一次住盐阜宾馆，我的确很失望整个墙壁黑咕隆咚的，好像被烟熏过一样家具非常的...   \n",
       "7762      0  看照片觉得还挺不错的，又是4星级的，但入住以后除了后悔没有别的，房间挺大但空空的，早餐是有但...   \n",
       "7763      0  我们去盐城的时候那里的最低气温只有4度，晚上冷得要死，居然还不开空调，投诉到酒店客房部，得到...   \n",
       "7764      0  说实在的我很失望，之前看了其他人的点评后觉得还可以才去的，结果让我们大跌眼镜。我想这家酒店以...   \n",
       "\n",
       "                                            new_reviews  \n",
       "0     距离 川沙 公路 较近 , 但是 公交 指示 不 对 , 如果 是 \" 蔡陆线 \" 的话 ,...  \n",
       "1           商务 大床房 ， 房间 很大 ， 床有 2M 宽 ， 整体 感觉 经济 实惠 不错 !  \n",
       "2     早餐 太 差 ， 无论 去 多少 人 ， 那边 也 不加 食品 的 。 酒店 应该 重视 一...  \n",
       "3     宾馆 在 小 街道 上 ， 不大好 找 ， 但 还好 北京 热心 同胞 很多 ~ 宾馆 设施...  \n",
       "4     CBD 中心 , 周围 没什么 店铺 , 说 5 星 有点 勉强 . 不 知道 为什么 卫生...  \n",
       "...                                                 ...  \n",
       "7760  尼斯 酒店 的 几大 特点 ： 噪音 大 、 环境 差 、 配置 低 、 服务 效率 低 。...  \n",
       "7761  盐城 来 了 很 多次 ， 第一次 住 盐阜 宾馆 ， 我 的确 很 失望 整个 墙壁 黑咕...  \n",
       "7762  看 照片 觉得 还 挺不错 的 ， 又 是 4 星级 的 ， 但 入住 以后 除了 后悔 没...  \n",
       "7763  我们 去 盐城 的 时候 那里 的 最低气温 只有 4 度 ， 晚上 冷得 要死 ， 居然 ...  \n",
       "7764  说 实在 的 我 很 失望 ， 之前 看 了 其他人 的 点评 后 觉得 还 可以 才 去 ...  \n",
       "\n",
       "[7765 rows x 3 columns]"
      ]
     },
     "execution_count": 85,
     "metadata": {},
     "output_type": "execute_result"
    }
   ],
   "source": [
    "def func(item):\n",
    "    # 分词\n",
    "    seg_list = jieba.cut(item)\n",
    "    return \" \".join(seg_list)\n",
    "\n",
    "\n",
    "\n",
    "data[\"new_reviews\"] = data[\"review\"].apply(func)\n",
    "data"
   ]
  },
  {
   "cell_type": "code",
   "execution_count": null,
   "id": "bba251c4",
   "metadata": {},
   "outputs": [],
   "source": []
  },
  {
   "cell_type": "code",
   "execution_count": 86,
   "id": "cc97b189",
   "metadata": {},
   "outputs": [
    {
     "name": "stdout",
     "output_type": "stream",
     "text": [
      "0.6700937129069996\n",
      "              precision    recall  f1-score   support\n",
      "\n",
      "           0       0.97      0.25      0.39       244\n",
      "           1       0.74      1.00      0.85       533\n",
      "\n",
      "    accuracy                           0.76       777\n",
      "   macro avg       0.86      0.62      0.62       777\n",
      "weighted avg       0.81      0.76      0.71       777\n",
      "\n"
     ]
    }
   ],
   "source": [
    "# 整理输入集与输出集\n",
    "cv = ft.CountVectorizer()\n",
    "bow = cv.fit_transform(data[\"new_reviews\"]) #按空格间隔词的形式作为输入，可转换为词袋矩阵bow\n",
    "\n",
    "tt = ft.TfidfTransformer()\n",
    "tfidf = tt.fit_transform(bow)\n",
    "\n",
    "\n",
    "# 拆分测试集与训练集\n",
    "train_x,test_x,train_y,test_y=\\\n",
    "    ms.train_test_split(tfidf,data[\"label\"],test_size=0.1,stratify=data[\"label\"],random_state=7)\n",
    "\n",
    "# 交叉验证\n",
    "# model_NB = lm.LogisticRegression()\n",
    "# model_NB = svm.SVC(kernel=\"linear\",C=1)\n",
    "# model_NB = st.DecisionTreeClassifier(max_depth=10,min_samples_split=3,random_state=7)\n",
    "# model_NB = se.RandomForestClassifier(max_depth=10,min_samples_split=3,n_estimators=200,random_state=7)\n",
    "\n",
    "# score_f1 = ms.cross_val_score(model_NB,train_x,train_y,cv=5,scoring=\"f1_weighted\")\n",
    "# print(score_f1.mean())\n",
    "\n",
    "\n",
    "#使用朴素贝叶斯模型\n",
    "model_NB = nb.MultinomialNB()\n",
    "score_f1 = ms.cross_val_score(model_NB,train_x,train_y,cv=5,scoring=\"f1_weighted\")\n",
    "print(score_f1.mean())\n",
    "\n",
    "\n",
    "\n",
    "#训练模型\n",
    "model_NB.fit(train_x,train_y)\n",
    "\n",
    "\n",
    "#测试模型，评估模型\n",
    "pred_test_y = model_NB.predict(test_x)\n",
    "print(sm.classification_report(test_y,pred_test_y))\n",
    "\n"
   ]
  },
  {
   "cell_type": "code",
   "execution_count": 87,
   "id": "818864fb",
   "metadata": {},
   "outputs": [
    {
     "data": {
      "text/html": [
       "<div>\n",
       "<style scoped>\n",
       "    .dataframe tbody tr th:only-of-type {\n",
       "        vertical-align: middle;\n",
       "    }\n",
       "\n",
       "    .dataframe tbody tr th {\n",
       "        vertical-align: top;\n",
       "    }\n",
       "\n",
       "    .dataframe thead th {\n",
       "        text-align: right;\n",
       "    }\n",
       "</style>\n",
       "<table border=\"1\" class=\"dataframe\">\n",
       "  <thead>\n",
       "    <tr style=\"text-align: right;\">\n",
       "      <th></th>\n",
       "      <th>reviews</th>\n",
       "      <th>seg</th>\n",
       "    </tr>\n",
       "  </thead>\n",
       "  <tbody>\n",
       "    <tr>\n",
       "      <th>0</th>\n",
       "      <td>房间很宽敞，价格不贵</td>\n",
       "      <td>房间 很 宽敞 ， 价格 不 贵</td>\n",
       "    </tr>\n",
       "    <tr>\n",
       "      <th>1</th>\n",
       "      <td>睡得不舒服，早餐太贵且不好吃</td>\n",
       "      <td>睡得 不舒服 ， 早餐 太贵 且 不好吃</td>\n",
       "    </tr>\n",
       "    <tr>\n",
       "      <th>2</th>\n",
       "      <td>总体还行，考虑到携程上有红包优惠</td>\n",
       "      <td>总体 还 行 ， 考虑 到 携程 上 有 红包 优惠</td>\n",
       "    </tr>\n",
       "    <tr>\n",
       "      <th>3</th>\n",
       "      <td>设施不齐全，下次再也来了。</td>\n",
       "      <td>设施 不齐全 ， 下次 再也 来 了 。</td>\n",
       "    </tr>\n",
       "    <tr>\n",
       "      <th>4</th>\n",
       "      <td>地板脏，空调漏水，下次不会再来了！</td>\n",
       "      <td>地板 脏 ， 空调 漏水 ， 下次 不会 再来 了 ！</td>\n",
       "    </tr>\n",
       "  </tbody>\n",
       "</table>\n",
       "</div>"
      ],
      "text/plain": [
       "             reviews                          seg\n",
       "0         房间很宽敞，价格不贵             房间 很 宽敞 ， 价格 不 贵\n",
       "1     睡得不舒服，早餐太贵且不好吃         睡得 不舒服 ， 早餐 太贵 且 不好吃\n",
       "2   总体还行，考虑到携程上有红包优惠   总体 还 行 ， 考虑 到 携程 上 有 红包 优惠\n",
       "3      设施不齐全，下次再也来了。         设施 不齐全 ， 下次 再也 来 了 。\n",
       "4  地板脏，空调漏水，下次不会再来了！  地板 脏 ， 空调 漏水 ， 下次 不会 再来 了 ！"
      ]
     },
     "execution_count": 87,
     "metadata": {},
     "output_type": "execute_result"
    }
   ],
   "source": [
    "new_comment=[\"房间很宽敞，价格不贵\",\n",
    "             \"睡得不舒服，早餐太贵且不好吃\",\n",
    "             \"总体还行，考虑到携程上有红包优惠\",\n",
    "             \"设施不齐全，下次再也来了。\",\n",
    "             \"地板脏，空调漏水，下次不会再来了！\"]\n",
    "\n",
    "new_comment = pd.DataFrame(new_comment,columns=[\"reviews\"])\n",
    "new_comment[\"seg\"] = new_comment[\"reviews\"].apply(func)\n",
    "new_comment"
   ]
  },
  {
   "cell_type": "code",
   "execution_count": 88,
   "id": "074e410f",
   "metadata": {},
   "outputs": [
    {
     "data": {
      "text/plain": [
       "array([1, 1, 1, 1, 0], dtype=int64)"
      ]
     },
     "execution_count": 88,
     "metadata": {},
     "output_type": "execute_result"
    }
   ],
   "source": [
    "# 把样本按照训练时 的方式转换为tfidf矩阵，才可以交给模型训练\n",
    "bow = cv.transform(new_comment[\"seg\"])\n",
    "test_data = tt.transform(bow)\n",
    "\n",
    "pred_test_data = model_NB.predict(test_data)\n",
    "\n",
    "pred_test_data"
   ]
  },
  {
   "cell_type": "code",
   "execution_count": null,
   "id": "56c9bac3",
   "metadata": {},
   "outputs": [],
   "source": []
  },
  {
   "cell_type": "code",
   "execution_count": null,
   "id": "2897cbc7",
   "metadata": {},
   "outputs": [],
   "source": []
  },
  {
   "cell_type": "code",
   "execution_count": null,
   "id": "854552d1",
   "metadata": {},
   "outputs": [],
   "source": []
  },
  {
   "cell_type": "code",
   "execution_count": null,
   "id": "b616bfcf",
   "metadata": {},
   "outputs": [],
   "source": []
  },
  {
   "cell_type": "code",
   "execution_count": null,
   "id": "51df19c5",
   "metadata": {},
   "outputs": [],
   "source": []
  },
  {
   "cell_type": "code",
   "execution_count": null,
   "id": "c0f1ff7b",
   "metadata": {},
   "outputs": [],
   "source": []
  }
 ],
 "metadata": {
  "kernelspec": {
   "display_name": "Python 3 (ipykernel)",
   "language": "python",
   "name": "python3"
  },
  "language_info": {
   "codemirror_mode": {
    "name": "ipython",
    "version": 3
   },
   "file_extension": ".py",
   "mimetype": "text/x-python",
   "name": "python",
   "nbconvert_exporter": "python",
   "pygments_lexer": "ipython3",
   "version": "3.9.4"
  }
 },
 "nbformat": 4,
 "nbformat_minor": 5
}
