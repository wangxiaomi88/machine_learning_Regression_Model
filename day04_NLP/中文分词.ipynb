{
 "cells": [
  {
   "cell_type": "code",
   "execution_count": 20,
   "id": "4ea36387",
   "metadata": {},
   "outputs": [],
   "source": [
    "import numpy as np\n",
    "import jieba"
   ]
  },
  {
   "cell_type": "code",
   "execution_count": 21,
   "id": "f092feb5",
   "metadata": {},
   "outputs": [
    {
     "data": {
      "text/plain": [
       "'我/来到/北京/清华/清华大学/华大/大学'"
      ]
     },
     "execution_count": 21,
     "metadata": {},
     "output_type": "execute_result"
    }
   ],
   "source": [
    "#全模式\n",
    "seg_list = jieba.cut(\"我来到北京清华大学\",cut_all=True)\n",
    "\"/\".join(seg_list)"
   ]
  },
  {
   "cell_type": "code",
   "execution_count": 22,
   "id": "78eb2b56",
   "metadata": {},
   "outputs": [
    {
     "data": {
      "text/plain": [
       "'我/来到/北京/清华大学'"
      ]
     },
     "execution_count": 22,
     "metadata": {},
     "output_type": "execute_result"
    }
   ],
   "source": [
    "#精确模式\n",
    "seg_list = jieba.cut(\"我来到北京清华大学\",cut_all=False)\n",
    "\"/\".join(seg_list)"
   ]
  },
  {
   "cell_type": "code",
   "execution_count": 23,
   "id": "abafc72f",
   "metadata": {},
   "outputs": [
    {
     "data": {
      "text/plain": [
       "'小明/毕业/于/中国/科学/学院/科学院/中国科学院/研究/研究所/，/后/在/日本/京都/大学/日本京都大学/深造'"
      ]
     },
     "execution_count": 23,
     "metadata": {},
     "output_type": "execute_result"
    }
   ],
   "source": [
    "#搜索引擎模式\n",
    "seg_list = jieba.cut_for_search(\"小明毕业于中国科学院研究所，后在日本京都大学深造\")\n",
    "\"/\".join(seg_list)"
   ]
  },
  {
   "cell_type": "code",
   "execution_count": 24,
   "id": "ae24e585",
   "metadata": {},
   "outputs": [
    {
     "data": {
      "text/plain": [
       "'张平/平安/全到/家/了'"
      ]
     },
     "execution_count": 24,
     "metadata": {},
     "output_type": "execute_result"
    }
   ],
   "source": [
    "#添加自己的分词字典\n",
    "jieba.load_userdict(\"mydict.txt\")\n",
    "\n",
    "seg_list = jieba.cut(\"乒乓球拍卖完了\",cut_all=False)\n",
    "\"/\".join(seg_list)\n",
    "\n",
    "seg_list = jieba.cut(\"张平平安全到家了\",cut_all=False)\n",
    "\"/\".join(seg_list)\n",
    "\n"
   ]
  },
  {
   "cell_type": "code",
   "execution_count": null,
   "id": "aa667150",
   "metadata": {},
   "outputs": [],
   "source": []
  },
  {
   "cell_type": "code",
   "execution_count": null,
   "id": "04103212",
   "metadata": {},
   "outputs": [],
   "source": []
  },
  {
   "cell_type": "code",
   "execution_count": null,
   "id": "a9300560",
   "metadata": {},
   "outputs": [],
   "source": []
  },
  {
   "cell_type": "code",
   "execution_count": null,
   "id": "e8e9091a",
   "metadata": {},
   "outputs": [],
   "source": []
  },
  {
   "cell_type": "markdown",
   "id": "a9a864a3",
   "metadata": {},
   "source": [
    "# 酒店评论舆情分析"
   ]
  },
  {
   "cell_type": "code",
   "execution_count": null,
   "id": "c4310273",
   "metadata": {},
   "outputs": [],
   "source": []
  },
  {
   "cell_type": "code",
   "execution_count": null,
   "id": "26660289",
   "metadata": {},
   "outputs": [],
   "source": []
  },
  {
   "cell_type": "code",
   "execution_count": null,
   "id": "3f8397c0",
   "metadata": {},
   "outputs": [],
   "source": []
  },
  {
   "cell_type": "code",
   "execution_count": null,
   "id": "d8221e4b",
   "metadata": {},
   "outputs": [],
   "source": []
  },
  {
   "cell_type": "code",
   "execution_count": null,
   "id": "2ca2c0bf",
   "metadata": {},
   "outputs": [],
   "source": []
  }
 ],
 "metadata": {
  "kernelspec": {
   "display_name": "Python 3 (ipykernel)",
   "language": "python",
   "name": "python3"
  },
  "language_info": {
   "codemirror_mode": {
    "name": "ipython",
    "version": 3
   },
   "file_extension": ".py",
   "mimetype": "text/x-python",
   "name": "python",
   "nbconvert_exporter": "python",
   "pygments_lexer": "ipython3",
   "version": "3.9.4"
  }
 },
 "nbformat": 4,
 "nbformat_minor": 5
}
