{
 "cells": [
  {
   "cell_type": "code",
   "execution_count": 63,
   "id": "d5d4b4e5",
   "metadata": {},
   "outputs": [],
   "source": [
    "import numpy as np\n",
    "import pandas as pd\n",
    "\n",
    "import sklearn.datasets as sd\n",
    "import sklearn.feature_extraction.text as ft\n",
    "import sklearn.model_selection as ms\n",
    "import sklearn.linear_model as lm\n",
    "import sklearn.metrics as sm\n",
    "\n",
    "import nltk.tokenize as tk\n"
   ]
  },
  {
   "cell_type": "code",
   "execution_count": 64,
   "id": "77511cab",
   "metadata": {},
   "outputs": [
    {
     "data": {
      "text/plain": [
       "dict_keys(['data', 'filenames', 'target_names', 'target', 'DESCR'])"
      ]
     },
     "execution_count": 64,
     "metadata": {},
     "output_type": "execute_result"
    }
   ],
   "source": [
    "data = sd.load_files(\"20news\",encoding=\"latin1\",random_state=7)\n",
    "data.keys()"
   ]
  },
  {
   "cell_type": "code",
   "execution_count": 65,
   "id": "13bcc82f",
   "metadata": {},
   "outputs": [
    {
     "data": {
      "text/plain": [
       "2968"
      ]
     },
     "execution_count": 65,
     "metadata": {},
     "output_type": "execute_result"
    }
   ],
   "source": [
    "data.filenames.shape\n",
    "len(data.data)"
   ]
  },
  {
   "cell_type": "code",
   "execution_count": 66,
   "id": "d49fdc4b",
   "metadata": {},
   "outputs": [
    {
     "data": {
      "text/plain": [
       "('From: gene@theporch.raider.net (Gene Wright)\\nSubject: NASA Special Publications for Voyager Mission?\\nOrganization: The MacInteresteds of Nashville, Tn.\\nLines: 12\\n\\nI have two books, both NASA Special Publications, on the Voyager \\nMissions. One is titled \"Voyages to Jupiter\" the other \"Voyage to Saturn\" \\nThese were excellent books put together after the encounters with each \\nplanet. \\n\\nThe question is: Did NASA ever put together a similar book for either the \\nUranus encounter or Neptune? If so, what SP number is it and where can it \\nbe obtained? If not, why didn\\'t they?\\n\\n--\\n  gene@theporch.raider.net (Gene Wright)\\ntheporch.raider.net  615/297-7951 The MacInteresteds of Nashville\\n',\n",
       " 4,\n",
       " 'sci.space')"
      ]
     },
     "execution_count": 66,
     "metadata": {},
     "output_type": "execute_result"
    }
   ],
   "source": [
    "data.data[0],data.target[0],data.target_names[data.target[0]]"
   ]
  },
  {
   "cell_type": "code",
   "execution_count": 67,
   "id": "f6fe5a08",
   "metadata": {},
   "outputs": [
    {
     "name": "stdout",
     "output_type": "stream",
     "text": [
      "0.9557690769051881\n",
      "              precision    recall  f1-score   support\n",
      "\n",
      "           0       0.98      0.98      0.98        58\n",
      "           1       0.98      1.00      0.99        60\n",
      "           2       1.00      0.98      0.99        60\n",
      "           3       1.00      1.00      1.00        60\n",
      "           4       1.00      1.00      1.00        59\n",
      "\n",
      "    accuracy                           0.99       297\n",
      "   macro avg       0.99      0.99      0.99       297\n",
      "weighted avg       0.99      0.99      0.99       297\n",
      "\n"
     ]
    }
   ],
   "source": [
    "# 整理输入集与输出集\n",
    "cv = ft.CountVectorizer()\n",
    "bow = cv.fit_transform(data.data)\n",
    "tt = ft.TfidfTransformer()\n",
    "tfidf = tt.fit_transform(bow)\n",
    "\n",
    "\n",
    "# 拆分测试集与训练集\n",
    "train_x,test_x,train_y,test_y=\\\n",
    "    ms.train_test_split(tfidf,data.target,test_size=0.1,stratify=data.target,random_state=7)\n",
    "\n",
    "# 交叉验证\n",
    "model_logic = lm.LogisticRegression()\n",
    "score_f1 = ms.cross_val_score(model_logic,train_x,train_y,cv=5,scoring=\"f1_weighted\")\n",
    "print(score_f1.mean())\n",
    "\n",
    "#训练模型\n",
    "model_logic.fit(train_x,train_y)\n",
    "\n",
    "\n",
    "#测试模型，评估模型\n",
    "pred_test_y = model_logic.predict(test_x)\n",
    "print(sm.classification_report(test_y,pred_test_y))\n",
    "\n"
   ]
  },
  {
   "cell_type": "markdown",
   "id": "ca338b22",
   "metadata": {},
   "source": [
    "# 整理一组测试样本进行模型测试"
   ]
  },
  {
   "cell_type": "code",
   "execution_count": 68,
   "id": "13192cd9",
   "metadata": {},
   "outputs": [
    {
     "name": "stdout",
     "output_type": "stream",
     "text": [
      "2    rec.sport.baseball\n",
      "0          misc.forsale\n",
      "0          misc.forsale\n",
      "dtype: object\n"
     ]
    }
   ],
   "source": [
    "new_email=[\"A spectator was hospitalized after being hit by a baseball during the previous game\",\n",
    "          \"Wang has been working on asymmetric encryption algorithms\",\n",
    "          \"These two wheels are pretty good on the highway\"]\n",
    "\n",
    "\n",
    "# 把样本按照训练时 的方式转换为tfidf矩阵，才可以交给模型训练\n",
    "bow = cv.transform(new_email)\n",
    "test_data = tt.transform(bow)\n",
    "\n",
    "pred_test_data = model_logic.predict(test_data)\n",
    "\n",
    "# labels=np.array(data.target_names)\n",
    "labels=pd.Series(data.target_names)\n",
    "print(labels[pred_test_data])\n",
    "\n"
   ]
  },
  {
   "cell_type": "code",
   "execution_count": null,
   "id": "44a00573",
   "metadata": {},
   "outputs": [],
   "source": []
  },
  {
   "cell_type": "code",
   "execution_count": null,
   "id": "f62450ca",
   "metadata": {},
   "outputs": [],
   "source": []
  },
  {
   "cell_type": "code",
   "execution_count": null,
   "id": "82c29113",
   "metadata": {},
   "outputs": [],
   "source": []
  },
  {
   "cell_type": "code",
   "execution_count": null,
   "id": "299e7212",
   "metadata": {},
   "outputs": [],
   "source": []
  },
  {
   "cell_type": "code",
   "execution_count": null,
   "id": "71d10bdb",
   "metadata": {},
   "outputs": [],
   "source": []
  },
  {
   "cell_type": "code",
   "execution_count": null,
   "id": "c8409e1f",
   "metadata": {},
   "outputs": [],
   "source": []
  },
  {
   "cell_type": "code",
   "execution_count": null,
   "id": "40262a05",
   "metadata": {},
   "outputs": [],
   "source": []
  }
 ],
 "metadata": {
  "kernelspec": {
   "display_name": "Python 3 (ipykernel)",
   "language": "python",
   "name": "python3"
  },
  "language_info": {
   "codemirror_mode": {
    "name": "ipython",
    "version": 3
   },
   "file_extension": ".py",
   "mimetype": "text/x-python",
   "name": "python",
   "nbconvert_exporter": "python",
   "pygments_lexer": "ipython3",
   "version": "3.9.4"
  }
 },
 "nbformat": 4,
 "nbformat_minor": 5
}
