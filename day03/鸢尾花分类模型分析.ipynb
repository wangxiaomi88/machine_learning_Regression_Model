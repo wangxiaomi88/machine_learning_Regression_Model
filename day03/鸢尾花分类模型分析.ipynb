{
 "cells": [
  {
   "cell_type": "code",
   "execution_count": 1,
   "id": "4726da7c",
   "metadata": {},
   "outputs": [],
   "source": [
    "import numpy as np\n",
    "import pandas as pd\n",
    "import matplotlib.pyplot as plt\n",
    "\n",
    "import sklearn.datasets as sd\n",
    "import sklearn.linear_model as lm\n",
    "import sklearn.tree as st\n",
    "import sklearn.ensemble as se\n",
    "import sklearn.model_selection as ms\n",
    "import sklearn.metrics as sm\n",
    "\n",
    "\n"
   ]
  },
  {
   "cell_type": "code",
   "execution_count": 2,
   "id": "0054e476",
   "metadata": {},
   "outputs": [
    {
     "name": "stdout",
     "output_type": "stream",
     "text": [
      "dict_keys(['data', 'target', 'frame', 'target_names', 'DESCR', 'feature_names', 'filename'])\n",
      ".. _iris_dataset:\n",
      "\n",
      "Iris plants dataset\n",
      "--------------------\n",
      "\n",
      "**Data Set Characteristics:**\n",
      "\n",
      "    :Number of Instances: 150 (50 in each of three classes)\n",
      "    :Number of Attributes: 4 numeric, predictive attributes and the class\n",
      "    :Attribute Information:\n",
      "        - sepal length in cm\n",
      "        - sepal width in cm\n",
      "        - petal length in cm\n",
      "        - petal width in cm\n",
      "        - class:\n",
      "                - Iris-Setosa\n",
      "                - Iris-Versicolour\n",
      "                - Iris-Virginica\n",
      "                \n",
      "    :Summary Statistics:\n",
      "\n",
      "    ============== ==== ==== ======= ===== ====================\n",
      "                    Min  Max   Mean    SD   Class Correlation\n",
      "    ============== ==== ==== ======= ===== ====================\n",
      "    sepal length:   4.3  7.9   5.84   0.83    0.7826\n",
      "    sepal width:    2.0  4.4   3.05   0.43   -0.4194\n",
      "    petal length:   1.0  6.9   3.76   1.76    0.9490  (high!)\n",
      "    petal width:    0.1  2.5   1.20   0.76    0.9565  (high!)\n",
      "    ============== ==== ==== ======= ===== ====================\n",
      "\n",
      "    :Missing Attribute Values: None\n",
      "    :Class Distribution: 33.3% for each of 3 classes.\n",
      "    :Creator: R.A. Fisher\n",
      "    :Donor: Michael Marshall (MARSHALL%PLU@io.arc.nasa.gov)\n",
      "    :Date: July, 1988\n",
      "\n",
      "The famous Iris database, first used by Sir R.A. Fisher. The dataset is taken\n",
      "from Fisher's paper. Note that it's the same as in R, but not as in the UCI\n",
      "Machine Learning Repository, which has two wrong data points.\n",
      "\n",
      "This is perhaps the best known database to be found in the\n",
      "pattern recognition literature.  Fisher's paper is a classic in the field and\n",
      "is referenced frequently to this day.  (See Duda & Hart, for example.)  The\n",
      "data set contains 3 classes of 50 instances each, where each class refers to a\n",
      "type of iris plant.  One class is linearly separable from the other 2; the\n",
      "latter are NOT linearly separable from each other.\n",
      "\n",
      ".. topic:: References\n",
      "\n",
      "   - Fisher, R.A. \"The use of multiple measurements in taxonomic problems\"\n",
      "     Annual Eugenics, 7, Part II, 179-188 (1936); also in \"Contributions to\n",
      "     Mathematical Statistics\" (John Wiley, NY, 1950).\n",
      "   - Duda, R.O., & Hart, P.E. (1973) Pattern Classification and Scene Analysis.\n",
      "     (Q327.D83) John Wiley & Sons.  ISBN 0-471-22361-1.  See page 218.\n",
      "   - Dasarathy, B.V. (1980) \"Nosing Around the Neighborhood: A New System\n",
      "     Structure and Classification Rule for Recognition in Partially Exposed\n",
      "     Environments\".  IEEE Transactions on Pattern Analysis and Machine\n",
      "     Intelligence, Vol. PAMI-2, No. 1, 67-71.\n",
      "   - Gates, G.W. (1972) \"The Reduced Nearest Neighbor Rule\".  IEEE Transactions\n",
      "     on Information Theory, May 1972, 431-433.\n",
      "   - See also: 1988 MLC Proceedings, 54-64.  Cheeseman et al\"s AUTOCLASS II\n",
      "     conceptual clustering system finds 3 classes in the data.\n",
      "   - Many, many more ...\n"
     ]
    }
   ],
   "source": [
    "iris = sd. load_iris()\n",
    "print(iris.keys())\n",
    "print(iris.DESCR)"
   ]
  },
  {
   "cell_type": "code",
   "execution_count": 3,
   "id": "9b0703f4",
   "metadata": {},
   "outputs": [
    {
     "data": {
      "text/plain": [
       "['sepal length (cm)',\n",
       " 'sepal width (cm)',\n",
       " 'petal length (cm)',\n",
       " 'petal width (cm)']"
      ]
     },
     "execution_count": 3,
     "metadata": {},
     "output_type": "execute_result"
    }
   ],
   "source": [
    "iris.feature_names"
   ]
  },
  {
   "cell_type": "code",
   "execution_count": 4,
   "id": "5d5e3024",
   "metadata": {},
   "outputs": [
    {
     "data": {
      "text/html": [
       "<div>\n",
       "<style scoped>\n",
       "    .dataframe tbody tr th:only-of-type {\n",
       "        vertical-align: middle;\n",
       "    }\n",
       "\n",
       "    .dataframe tbody tr th {\n",
       "        vertical-align: top;\n",
       "    }\n",
       "\n",
       "    .dataframe thead th {\n",
       "        text-align: right;\n",
       "    }\n",
       "</style>\n",
       "<table border=\"1\" class=\"dataframe\">\n",
       "  <thead>\n",
       "    <tr style=\"text-align: right;\">\n",
       "      <th></th>\n",
       "      <th>sepal length (cm)</th>\n",
       "      <th>sepal width (cm)</th>\n",
       "      <th>petal length (cm)</th>\n",
       "      <th>petal width (cm)</th>\n",
       "      <th>target</th>\n",
       "    </tr>\n",
       "  </thead>\n",
       "  <tbody>\n",
       "    <tr>\n",
       "      <th>0</th>\n",
       "      <td>5.1</td>\n",
       "      <td>3.5</td>\n",
       "      <td>1.4</td>\n",
       "      <td>0.2</td>\n",
       "      <td>0</td>\n",
       "    </tr>\n",
       "    <tr>\n",
       "      <th>1</th>\n",
       "      <td>4.9</td>\n",
       "      <td>3.0</td>\n",
       "      <td>1.4</td>\n",
       "      <td>0.2</td>\n",
       "      <td>0</td>\n",
       "    </tr>\n",
       "    <tr>\n",
       "      <th>2</th>\n",
       "      <td>4.7</td>\n",
       "      <td>3.2</td>\n",
       "      <td>1.3</td>\n",
       "      <td>0.2</td>\n",
       "      <td>0</td>\n",
       "    </tr>\n",
       "    <tr>\n",
       "      <th>3</th>\n",
       "      <td>4.6</td>\n",
       "      <td>3.1</td>\n",
       "      <td>1.5</td>\n",
       "      <td>0.2</td>\n",
       "      <td>0</td>\n",
       "    </tr>\n",
       "    <tr>\n",
       "      <th>4</th>\n",
       "      <td>5.0</td>\n",
       "      <td>3.6</td>\n",
       "      <td>1.4</td>\n",
       "      <td>0.2</td>\n",
       "      <td>0</td>\n",
       "    </tr>\n",
       "    <tr>\n",
       "      <th>...</th>\n",
       "      <td>...</td>\n",
       "      <td>...</td>\n",
       "      <td>...</td>\n",
       "      <td>...</td>\n",
       "      <td>...</td>\n",
       "    </tr>\n",
       "    <tr>\n",
       "      <th>145</th>\n",
       "      <td>6.7</td>\n",
       "      <td>3.0</td>\n",
       "      <td>5.2</td>\n",
       "      <td>2.3</td>\n",
       "      <td>2</td>\n",
       "    </tr>\n",
       "    <tr>\n",
       "      <th>146</th>\n",
       "      <td>6.3</td>\n",
       "      <td>2.5</td>\n",
       "      <td>5.0</td>\n",
       "      <td>1.9</td>\n",
       "      <td>2</td>\n",
       "    </tr>\n",
       "    <tr>\n",
       "      <th>147</th>\n",
       "      <td>6.5</td>\n",
       "      <td>3.0</td>\n",
       "      <td>5.2</td>\n",
       "      <td>2.0</td>\n",
       "      <td>2</td>\n",
       "    </tr>\n",
       "    <tr>\n",
       "      <th>148</th>\n",
       "      <td>6.2</td>\n",
       "      <td>3.4</td>\n",
       "      <td>5.4</td>\n",
       "      <td>2.3</td>\n",
       "      <td>2</td>\n",
       "    </tr>\n",
       "    <tr>\n",
       "      <th>149</th>\n",
       "      <td>5.9</td>\n",
       "      <td>3.0</td>\n",
       "      <td>5.1</td>\n",
       "      <td>1.8</td>\n",
       "      <td>2</td>\n",
       "    </tr>\n",
       "  </tbody>\n",
       "</table>\n",
       "<p>150 rows × 5 columns</p>\n",
       "</div>"
      ],
      "text/plain": [
       "     sepal length (cm)  sepal width (cm)  petal length (cm)  petal width (cm)  \\\n",
       "0                  5.1               3.5                1.4               0.2   \n",
       "1                  4.9               3.0                1.4               0.2   \n",
       "2                  4.7               3.2                1.3               0.2   \n",
       "3                  4.6               3.1                1.5               0.2   \n",
       "4                  5.0               3.6                1.4               0.2   \n",
       "..                 ...               ...                ...               ...   \n",
       "145                6.7               3.0                5.2               2.3   \n",
       "146                6.3               2.5                5.0               1.9   \n",
       "147                6.5               3.0                5.2               2.0   \n",
       "148                6.2               3.4                5.4               2.3   \n",
       "149                5.9               3.0                5.1               1.8   \n",
       "\n",
       "     target  \n",
       "0         0  \n",
       "1         0  \n",
       "2         0  \n",
       "3         0  \n",
       "4         0  \n",
       "..      ...  \n",
       "145       2  \n",
       "146       2  \n",
       "147       2  \n",
       "148       2  \n",
       "149       2  \n",
       "\n",
       "[150 rows x 5 columns]"
      ]
     },
     "execution_count": 4,
     "metadata": {},
     "output_type": "execute_result"
    }
   ],
   "source": [
    "data = pd.DataFrame(iris.data,columns=iris.feature_names)\n",
    "data[\"target\"]=iris.target\n",
    "data"
   ]
  },
  {
   "cell_type": "code",
   "execution_count": 5,
   "id": "8b54d5e1",
   "metadata": {},
   "outputs": [
    {
     "data": {
      "text/html": [
       "<div>\n",
       "<style scoped>\n",
       "    .dataframe tbody tr th:only-of-type {\n",
       "        vertical-align: middle;\n",
       "    }\n",
       "\n",
       "    .dataframe tbody tr th {\n",
       "        vertical-align: top;\n",
       "    }\n",
       "\n",
       "    .dataframe thead th {\n",
       "        text-align: right;\n",
       "    }\n",
       "</style>\n",
       "<table border=\"1\" class=\"dataframe\">\n",
       "  <thead>\n",
       "    <tr style=\"text-align: right;\">\n",
       "      <th></th>\n",
       "      <th>petal length (cm)</th>\n",
       "      <th>petal width (cm)</th>\n",
       "      <th>sepal length (cm)</th>\n",
       "      <th>sepal width (cm)</th>\n",
       "    </tr>\n",
       "    <tr>\n",
       "      <th>target</th>\n",
       "      <th></th>\n",
       "      <th></th>\n",
       "      <th></th>\n",
       "      <th></th>\n",
       "    </tr>\n",
       "  </thead>\n",
       "  <tbody>\n",
       "    <tr>\n",
       "      <th>0</th>\n",
       "      <td>1.462</td>\n",
       "      <td>0.246</td>\n",
       "      <td>5.006</td>\n",
       "      <td>3.428</td>\n",
       "    </tr>\n",
       "    <tr>\n",
       "      <th>1</th>\n",
       "      <td>4.260</td>\n",
       "      <td>1.326</td>\n",
       "      <td>5.936</td>\n",
       "      <td>2.770</td>\n",
       "    </tr>\n",
       "    <tr>\n",
       "      <th>2</th>\n",
       "      <td>5.552</td>\n",
       "      <td>2.026</td>\n",
       "      <td>6.588</td>\n",
       "      <td>2.974</td>\n",
       "    </tr>\n",
       "  </tbody>\n",
       "</table>\n",
       "</div>"
      ],
      "text/plain": [
       "        petal length (cm)  petal width (cm)  sepal length (cm)  \\\n",
       "target                                                           \n",
       "0                   1.462             0.246              5.006   \n",
       "1                   4.260             1.326              5.936   \n",
       "2                   5.552             2.026              6.588   \n",
       "\n",
       "        sepal width (cm)  \n",
       "target                    \n",
       "0                  3.428  \n",
       "1                  2.770  \n",
       "2                  2.974  "
      ]
     },
     "execution_count": 5,
     "metadata": {},
     "output_type": "execute_result"
    }
   ],
   "source": [
    "data.pivot_table(index=\"target\",values=iris.feature_names)"
   ]
  },
  {
   "cell_type": "code",
   "execution_count": 6,
   "id": "eb7da91c",
   "metadata": {},
   "outputs": [
    {
     "data": {
      "text/plain": [
       "<AxesSubplot:xlabel='petal length (cm)', ylabel='petal width (cm)'>"
      ]
     },
     "execution_count": 6,
     "metadata": {},
     "output_type": "execute_result"
    },
    {
     "data": {
      "image/png": "[encoded data removed]",
      "text/plain": [
       "<Figure size 432x288 with 2 Axes>"
      ]
     },
     "metadata": {
      "needs_background": "light"
     },
     "output_type": "display_data"
    },
    {
     "data": {
      "image/png": "[encoded data removed]",
      "text/plain": [
       "<Figure size 432x288 with 2 Axes>"
      ]
     },
     "metadata": {
      "needs_background": "light"
     },
     "output_type": "display_data"
    }
   ],
   "source": [
    "#可视化\n",
    "data.plot.scatter(x=iris.feature_names[0],y=iris.feature_names[1],c=\"target\",cmap=\"brg\",s=50,alpha=0.6)\n",
    "data.plot.scatter(x=iris.feature_names[2],y=iris.feature_names[3],c=\"target\",cmap=\"brg\",s=50,alpha=0.6)"
   ]
  },
  {
   "cell_type": "code",
   "execution_count": null,
   "id": "14f7bbf7",
   "metadata": {},
   "outputs": [],
   "source": []
  },
  {
   "cell_type": "code",
   "execution_count": 7,
   "id": "e2386ee2",
   "metadata": {},
   "outputs": [
    {
     "data": {
      "text/plain": [
       "[<matplotlib.lines.Line2D at 0x21a58820b50>]"
      ]
     },
     "execution_count": 7,
     "metadata": {},
     "output_type": "execute_result"
    },
    {
     "data": {
      "image/png": "[encoded data removed]",
      "text/plain": [
       "<Figure size 432x288 with 1 Axes>"
      ]
     },
     "metadata": {
      "needs_background": "light"
     },
     "output_type": "display_data"
    }
   ],
   "source": [
    "xs = np.linspace(-10,10,200)\n",
    "ys = 1/(1+np.exp(-1*xs))\n",
    "plt.grid(linestyle=\"--\")\n",
    "plt.plot(xs,ys)"
   ]
  },
  {
   "cell_type": "code",
   "execution_count": null,
   "id": "32d11aa3",
   "metadata": {},
   "outputs": [],
   "source": []
  },
  {
   "cell_type": "markdown",
   "id": "a7fd8315",
   "metadata": {},
   "source": [
    "# 逻辑回归模型"
   ]
  },
  {
   "cell_type": "code",
   "execution_count": 8,
   "id": "df736b6f",
   "metadata": {},
   "outputs": [
    {
     "name": "stdout",
     "output_type": "stream",
     "text": [
      "(120, 4)\n",
      "(30, 4)\n",
      "2    10\n",
      "0    10\n",
      "1    10\n",
      "Name: target, dtype: int64\n"
     ]
    }
   ],
   "source": [
    "x = data.tail(150).iloc[:,:-1] #取后100个数据，只涉及二分类\n",
    "y = data.tail(150)[\"target\"] #取后100个数据，只涉及二分类\n",
    "\n",
    "train_x,test_x,train_y,test_y = ms.train_test_split(x,y,test_size=0.2,random_state=7,stratify=y)\n",
    "#stratify=y，将训练集和检测集按类型等比例抽取，防止训练于检测样本类型分布不匹配！\n",
    "print(train_x.shape)\n",
    "print(test_x.shape)\n",
    "print(test_y.value_counts())"
   ]
  },
  {
   "cell_type": "code",
   "execution_count": null,
   "id": "3271362f",
   "metadata": {},
   "outputs": [],
   "source": []
  },
  {
   "cell_type": "code",
   "execution_count": 9,
   "id": "58425dc5",
   "metadata": {},
   "outputs": [
    {
     "name": "stdout",
     "output_type": "stream",
     "text": [
      "5次交叉验证精确度分数： 0.9466666666666665\n",
      "5次交叉验证查准率分数： 0.9563325563325563\n",
      "5次交叉验证召回率分数： 0.9466666666666665\n",
      "5次交叉验证f1分数： 0.9459202399032793\n",
      "0.9333333333333333\n"
     ]
    }
   ],
   "source": [
    "model_logic = lm.LogisticRegression(solver=\"liblinear\",C=0.5)\n",
    "\n",
    "#做5次交叉验证\n",
    "scores = ms.cross_val_score(model_logic,x,y,cv=5,scoring=\"accuracy\")\n",
    "print(\"5次交叉验证精确度分数：\",scores.mean())\n",
    "scores = ms.cross_val_score(model_logic,x,y,cv=5,scoring=\"precision_weighted\")\n",
    "print(\"5次交叉验证查准率分数：\",scores.mean())\n",
    "scores = ms.cross_val_score(model_logic,x,y,cv=5,scoring=\"recall_weighted\")\n",
    "print(\"5次交叉验证召回率分数：\",scores.mean())\n",
    "scores = ms.cross_val_score(model_logic,x,y,cv=5,scoring=\"f1_weighted\")\n",
    "print(\"5次交叉验证f1分数：\",scores.mean())\n",
    "\n",
    "\n",
    "\"\"\"\n",
    "构建逻辑回归器\n",
    "solver: 用来指明损失函数的优化方法, sklearn自带了如下几种:\n",
    "    liblinear: 坐标轴下降法来迭代优化损失函数\n",
    "    newton-cg: 牛顿法的一种\n",
    "    bfgs: 拟牛顿法\n",
    "    sag: 随机平均梯度下降(适合样本量大的情况)\n",
    "    \n",
    "penalty: 参数可选择的值为\"11\"和\"12\"。与 solver有关。\n",
    "    如果是L2正则化,所有优化算法都可用。\n",
    "    如果是L1正则化,只能使用\"liblinear\"。\n",
    "C: 该参数可以控制正则强度,值越小正则强度越大,可以防止过拟合。\n",
    "\"\"\"\n",
    "model_logic.fit(train_x,train_y)\n",
    "pred_test_y = model_logic.predict(test_x)\n",
    "\n",
    "#评估 模型准确率\n",
    "print((pred_test_y==test_y).sum()/test_y.size)\n"
   ]
  },
  {
   "cell_type": "markdown",
   "id": "7a1c51f3",
   "metadata": {},
   "source": [
    "## 针对测试集结果，利用混淆矩阵评估"
   ]
  },
  {
   "cell_type": "code",
   "execution_count": 10,
   "id": "06803cab",
   "metadata": {},
   "outputs": [
    {
     "data": {
      "text/plain": [
       "array([[10,  0,  0],\n",
       "       [ 0,  9,  1],\n",
       "       [ 0,  1,  9]], dtype=int64)"
      ]
     },
     "execution_count": 10,
     "metadata": {},
     "output_type": "execute_result"
    }
   ],
   "source": [
    "m = sm.confusion_matrix(test_y,pred_test_y)\n",
    "m"
   ]
  },
  {
   "cell_type": "code",
   "execution_count": 11,
   "id": "40df51e8",
   "metadata": {},
   "outputs": [
    {
     "data": {
      "text/plain": [
       "<matplotlib.image.AxesImage at 0x21a588c41f0>"
      ]
     },
     "execution_count": 11,
     "metadata": {},
     "output_type": "execute_result"
    },
    {
     "data": {
      "image/png": "[encoded data removed]",
      "text/plain": [
       "<Figure size 432x288 with 1 Axes>"
      ]
     },
     "metadata": {
      "needs_background": "light"
     },
     "output_type": "display_data"
    }
   ],
   "source": [
    "plt.imshow(m,cmap=\"gray\")"
   ]
  },
  {
   "cell_type": "markdown",
   "id": "061aa353",
   "metadata": {},
   "source": [
    "## 针对测试集结果，利用分类报告评估"
   ]
  },
  {
   "cell_type": "code",
   "execution_count": 12,
   "id": "8b804d86",
   "metadata": {},
   "outputs": [
    {
     "name": "stdout",
     "output_type": "stream",
     "text": [
      "              precision    recall  f1-score   support\n",
      "\n",
      "           0       1.00      1.00      1.00        10\n",
      "           1       0.90      0.90      0.90        10\n",
      "           2       0.90      0.90      0.90        10\n",
      "\n",
      "    accuracy                           0.93        30\n",
      "   macro avg       0.93      0.93      0.93        30\n",
      "weighted avg       0.93      0.93      0.93        30\n",
      "\n"
     ]
    }
   ],
   "source": [
    "cr = sm.classification_report(test_y,pred_test_y)\n",
    "print(cr)"
   ]
  },
  {
   "cell_type": "code",
   "execution_count": null,
   "id": "0af80561",
   "metadata": {},
   "outputs": [],
   "source": []
  },
  {
   "cell_type": "markdown",
   "id": "2825df5b",
   "metadata": {},
   "source": [
    "## 基于基尼系数决策树分类模型"
   ]
  },
  {
   "cell_type": "code",
   "execution_count": 13,
   "id": "f21d9fa3",
   "metadata": {},
   "outputs": [
    {
     "name": "stdout",
     "output_type": "stream",
     "text": [
      "5次交叉验证精确度分数： 0.96\n",
      "5次交叉验证查准率分数： 0.9634343434343433\n",
      "5次交叉验证召回率分数： 0.96\n",
      "5次交叉验证f1分数： 0.9598319029897977\n",
      "[[10  0  0]\n",
      " [ 0 10  0]\n",
      " [ 0  1  9]]\n",
      "              precision    recall  f1-score   support\n",
      "\n",
      "           0       1.00      1.00      1.00        10\n",
      "           1       0.91      1.00      0.95        10\n",
      "           2       1.00      0.90      0.95        10\n",
      "\n",
      "    accuracy                           0.97        30\n",
      "   macro avg       0.97      0.97      0.97        30\n",
      "weighted avg       0.97      0.97      0.97        30\n",
      "\n"
     ]
    }
   ],
   "source": [
    "model_tree=st.DecisionTreeClassifier(max_depth=3,min_samples_split=3,random_state=7)\n",
    "\n",
    "#做5次交叉验证\n",
    "scores = ms.cross_val_score(model_tree,x,y,cv=5,scoring=\"accuracy\")\n",
    "print(\"5次交叉验证精确度分数：\",scores.mean())\n",
    "scores = ms.cross_val_score(model_tree,x,y,cv=5,scoring=\"precision_weighted\")\n",
    "print(\"5次交叉验证查准率分数：\",scores.mean())\n",
    "scores = ms.cross_val_score(model_tree,x,y,cv=5,scoring=\"recall_weighted\")\n",
    "print(\"5次交叉验证召回率分数：\",scores.mean())\n",
    "scores = ms.cross_val_score(model_tree,x,y,cv=5,scoring=\"f1_weighted\")\n",
    "print(\"5次交叉验证f1分数：\",scores.mean())\n",
    "\n",
    "\n",
    "model_tree.fit(train_x,train_y)\n",
    "pred_test_y = model_tree.predict(test_x)\n",
    "\n",
    "m = sm.confusion_matrix(test_y,pred_test_y)\n",
    "print(m)\n",
    "cr = sm.classification_report(test_y,pred_test_y)\n",
    "print(cr)\n",
    "\n"
   ]
  },
  {
   "cell_type": "markdown",
   "id": "2ced940b",
   "metadata": {},
   "source": [
    "# 基于随机森林分类模型"
   ]
  },
  {
   "cell_type": "code",
   "execution_count": 14,
   "id": "09227e54",
   "metadata": {},
   "outputs": [
    {
     "name": "stdout",
     "output_type": "stream",
     "text": [
      "5次交叉验证精确度分数： 0.9533333333333334\n",
      "5次交叉验证查准率分数： 0.9572390572390571\n",
      "5次交叉验证召回率分数： 0.9533333333333334\n",
      "5次交叉验证f1分数： 0.9531151110098477\n",
      "[[10  0  0]\n",
      " [ 0 10  0]\n",
      " [ 0  0 10]]\n",
      "              precision    recall  f1-score   support\n",
      "\n",
      "           0       1.00      1.00      1.00        10\n",
      "           1       1.00      1.00      1.00        10\n",
      "           2       1.00      1.00      1.00        10\n",
      "\n",
      "    accuracy                           1.00        30\n",
      "   macro avg       1.00      1.00      1.00        30\n",
      "weighted avg       1.00      1.00      1.00        30\n",
      "\n"
     ]
    }
   ],
   "source": [
    "model_RF=se.RandomForestClassifier(max_depth=3,min_samples_split=3,n_estimators=400,random_state=7)\n",
    "\n",
    "#做5次交叉验证\n",
    "scores = ms.cross_val_score(model_RF,x,y,cv=5,scoring=\"accuracy\")\n",
    "print(\"5次交叉验证精确度分数：\",scores.mean())\n",
    "scores = ms.cross_val_score(model_RF,x,y,cv=5,scoring=\"precision_weighted\")\n",
    "print(\"5次交叉验证查准率分数：\",scores.mean())\n",
    "scores = ms.cross_val_score(model_RF,x,y,cv=5,scoring=\"recall_weighted\")\n",
    "print(\"5次交叉验证召回率分数：\",scores.mean())\n",
    "scores = ms.cross_val_score(model_RF,x,y,cv=5,scoring=\"f1_weighted\")\n",
    "print(\"5次交叉验证f1分数：\",scores.mean())\n",
    "\n",
    "\n",
    "model_RF.fit(train_x,train_y)\n",
    "pred_test_y = model_RF.predict(test_x)\n",
    "\n",
    "m = sm.confusion_matrix(test_y,pred_test_y)\n",
    "print(m)\n",
    "cr = sm.classification_report(test_y,pred_test_y)\n",
    "print(cr)"
   ]
  },
  {
   "cell_type": "markdown",
   "id": "ff4145eb",
   "metadata": {},
   "source": [
    "# 基于Ada_Boost分类模型"
   ]
  },
  {
   "cell_type": "code",
   "execution_count": 15,
   "id": "f4fcd98e",
   "metadata": {},
   "outputs": [
    {
     "name": "stdout",
     "output_type": "stream",
     "text": [
      "5次交叉验证精确度分数： 0.9600000000000002\n",
      "5次交叉验证查准率分数： 0.9622895622895623\n",
      "5次交叉验证召回率分数： 0.9600000000000002\n",
      "5次交叉验证f1分数： 0.9598997493734336\n",
      "[[10  0  0]\n",
      " [ 0 10  0]\n",
      " [ 0  0 10]]\n",
      "              precision    recall  f1-score   support\n",
      "\n",
      "           0       1.00      1.00      1.00        10\n",
      "           1       1.00      1.00      1.00        10\n",
      "           2       1.00      1.00      1.00        10\n",
      "\n",
      "    accuracy                           1.00        30\n",
      "   macro avg       1.00      1.00      1.00        30\n",
      "weighted avg       1.00      1.00      1.00        30\n",
      "\n"
     ]
    }
   ],
   "source": [
    "model_AdaBoost=se.AdaBoostClassifier(model_tree,n_estimators=400,random_state=7)\n",
    "\n",
    "#做5次交叉验证\n",
    "scores = ms.cross_val_score(model_AdaBoost,x,y,cv=5,scoring=\"accuracy\")\n",
    "print(\"5次交叉验证精确度分数：\",scores.mean())\n",
    "scores = ms.cross_val_score(model_AdaBoost,x,y,cv=5,scoring=\"precision_weighted\")\n",
    "print(\"5次交叉验证查准率分数：\",scores.mean())\n",
    "scores = ms.cross_val_score(model_AdaBoost,x,y,cv=5,scoring=\"recall_weighted\")\n",
    "print(\"5次交叉验证召回率分数：\",scores.mean())\n",
    "scores = ms.cross_val_score(model_AdaBoost,x,y,cv=5,scoring=\"f1_weighted\")\n",
    "print(\"5次交叉验证f1分数：\",scores.mean())\n",
    "\n",
    "\n",
    "model_AdaBoost.fit(train_x,train_y)\n",
    "pred_test_y = model_AdaBoost.predict(test_x)\n",
    "\n",
    "m = sm.confusion_matrix(test_y,pred_test_y)\n",
    "print(m)\n",
    "cr = sm.classification_report(test_y,pred_test_y)\n",
    "print(cr)"
   ]
  },
  {
   "cell_type": "markdown",
   "id": "a9b04177",
   "metadata": {},
   "source": [
    "# 基于GBDT分类模型"
   ]
  },
  {
   "cell_type": "code",
   "execution_count": 16,
   "id": "dfbdac01",
   "metadata": {},
   "outputs": [
    {
     "name": "stdout",
     "output_type": "stream",
     "text": [
      "5次交叉验证精确度分数： 0.9600000000000002\n",
      "5次交叉验证查准率分数： 0.9622895622895623\n",
      "5次交叉验证召回率分数： 0.9600000000000002\n",
      "5次交叉验证f1分数： 0.9598997493734336\n",
      "[[10  0  0]\n",
      " [ 0 10  0]\n",
      " [ 0  1  9]]\n",
      "              precision    recall  f1-score   support\n",
      "\n",
      "           0       1.00      1.00      1.00        10\n",
      "           1       0.91      1.00      0.95        10\n",
      "           2       1.00      0.90      0.95        10\n",
      "\n",
      "    accuracy                           0.97        30\n",
      "   macro avg       0.97      0.97      0.97        30\n",
      "weighted avg       0.97      0.97      0.97        30\n",
      "\n"
     ]
    }
   ],
   "source": [
    "model_GBDT=se.GradientBoostingClassifier(max_depth=3,min_samples_split=3,n_estimators=400,random_state=7)\n",
    "\n",
    "#做5次交叉验证\n",
    "scores = ms.cross_val_score(model_GBDT,x,y,cv=5,scoring=\"accuracy\")\n",
    "print(\"5次交叉验证精确度分数：\",scores.mean())\n",
    "scores = ms.cross_val_score(model_GBDT,x,y,cv=5,scoring=\"precision_weighted\")\n",
    "print(\"5次交叉验证查准率分数：\",scores.mean())\n",
    "scores = ms.cross_val_score(model_GBDT,x,y,cv=5,scoring=\"recall_weighted\")\n",
    "print(\"5次交叉验证召回率分数：\",scores.mean())\n",
    "scores = ms.cross_val_score(model_GBDT,x,y,cv=5,scoring=\"f1_weighted\")\n",
    "print(\"5次交叉验证f1分数：\",scores.mean())\n",
    "\n",
    "\n",
    "model_GBDT.fit(train_x,train_y)\n",
    "pred_test_y = model_GBDT.predict(test_x)\n",
    "\n",
    "m = sm.confusion_matrix(test_y,pred_test_y)\n",
    "print(m)\n",
    "cr = sm.classification_report(test_y,pred_test_y)\n",
    "print(cr)"
   ]
  },
  {
   "cell_type": "code",
   "execution_count": null,
   "id": "7a37e46d",
   "metadata": {},
   "outputs": [],
   "source": []
  },
  {
   "cell_type": "code",
   "execution_count": null,
   "id": "82951a4f",
   "metadata": {},
   "outputs": [],
   "source": []
  },
  {
   "cell_type": "code",
   "execution_count": null,
   "id": "01bce986",
   "metadata": {},
   "outputs": [],
   "source": []
  },
  {
   "cell_type": "code",
   "execution_count": null,
   "id": "ae3885b9",
   "metadata": {},
   "outputs": [],
   "source": []
  },
  {
   "cell_type": "code",
   "execution_count": null,
   "id": "cb94053e",
   "metadata": {},
   "outputs": [],
   "source": []
  },
  {
   "cell_type": "code",
   "execution_count": null,
   "id": "81791b70",
   "metadata": {},
   "outputs": [],
   "source": []
  },
  {
   "cell_type": "code",
   "execution_count": null,
   "id": "971e454c",
   "metadata": {},
   "outputs": [],
   "source": []
  },
  {
   "cell_type": "code",
   "execution_count": null,
   "id": "fc2fe7c7",
   "metadata": {},
   "outputs": [],
   "source": []
  }
 ],
 "metadata": {
  "kernelspec": {
   "display_name": "Python 3 (ipykernel)",
   "language": "python",
   "name": "python3"
  },
  "language_info": {
   "codemirror_mode": {
    "name": "ipython",
    "version": 3
   },
   "file_extension": ".py",
   "mimetype": "text/x-python",
   "name": "python",
   "nbconvert_exporter": "python",
   "pygments_lexer": "ipython3",
   "version": "3.9.4"
  }
 },
 "nbformat": 4,
 "nbformat_minor": 5
}
