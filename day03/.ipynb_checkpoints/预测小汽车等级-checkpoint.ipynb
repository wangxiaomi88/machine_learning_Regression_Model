{
 "cells": [
  {
   "cell_type": "code",
   "execution_count": 70,
   "id": "59cb013b",
   "metadata": {},
   "outputs": [],
   "source": [
    "import numpy as np\n",
    "import pandas as pd\n",
    "import matplotlib.pyplot as plt\n",
    "\n",
    "import sklearn.datasets as sd\n",
    "import sklearn.preprocessing as sp\n",
    "import sklearn.linear_model as lm\n",
    "import sklearn.tree as st\n",
    "import sklearn.ensemble as se\n",
    "import sklearn.model_selection as ms\n",
    "import sklearn.metrics as sm\n",
    "\n"
   ]
  },
  {
   "cell_type": "code",
   "execution_count": 71,
   "id": "f73a012d",
   "metadata": {},
   "outputs": [
    {
     "name": "stdout",
     "output_type": "stream",
     "text": [
      "vhigh    432\n",
      "high     432\n",
      "med      432\n",
      "low      432\n",
      "Name: price, dtype: int64\n",
      "\n",
      "vhigh    432\n",
      "high     432\n",
      "med      432\n",
      "low      432\n",
      "Name: service, dtype: int64\n",
      "\n",
      "2        432\n",
      "3        432\n",
      "4        432\n",
      "5more    432\n",
      "Name: door, dtype: int64\n",
      "\n",
      "2       576\n",
      "4       576\n",
      "more    576\n",
      "Name: passenger, dtype: int64\n",
      "\n",
      "small    576\n",
      "med      576\n",
      "big      576\n",
      "Name: trunk, dtype: int64\n",
      "\n",
      "low     576\n",
      "med     576\n",
      "high    576\n",
      "Name: safe, dtype: int64\n",
      "\n",
      "unacc    1210\n",
      "acc       384\n",
      "good       69\n",
      "vgood      65\n",
      "Name: level, dtype: int64\n",
      "\n"
     ]
    }
   ],
   "source": [
    "cars = pd.read_csv(\"car.txt\",header=None,names=[\"price\",\"service\",\"door\",\"passenger\",\"trunk\",\"safe\",\"level\"]) #\n",
    "\n",
    "for i in cars.columns:\n",
    "    print(cars[i].value_counts(),end=\"\\n\\n\")\n"
   ]
  },
  {
   "cell_type": "markdown",
   "id": "58720b51",
   "metadata": {},
   "source": [
    "## 确定：是分类问题，还是回归问题？\n",
    "答：分类，输出是离散值\n",
    "\n",
    "## 选哪一个分类模型：逻辑回归、决策树、随机森林、Ada_Boost、GBDT\n",
    "答：随机森林（当然也可以尝试其他模型）"
   ]
  },
  {
   "cell_type": "markdown",
   "id": "ae56f412",
   "metadata": {},
   "source": [
    "# 针对数据完成标签编码预处理"
   ]
  },
  {
   "cell_type": "code",
   "execution_count": 72,
   "id": "0a136506",
   "metadata": {},
   "outputs": [
    {
     "data": {
      "text/plain": [
       "{'price': LabelEncoder(),\n",
       " 'service': LabelEncoder(),\n",
       " 'door': LabelEncoder(),\n",
       " 'passenger': LabelEncoder(),\n",
       " 'trunk': LabelEncoder(),\n",
       " 'safe': LabelEncoder(),\n",
       " 'level': LabelEncoder()}"
      ]
     },
     "execution_count": 72,
     "metadata": {},
     "output_type": "execute_result"
    }
   ],
   "source": [
    "# 基于自带的函数完成标签编码\n",
    "\n",
    "data = cars.copy()\n",
    "\n",
    "encoder_dict={}\n",
    "for col_ind,col_val in cars.items():\n",
    "    encoder=sp.LabelEncoder()\n",
    "    data[col_ind] = encoder.fit_transform(col_val)\n",
    "    encoder_dict[col_ind]=encoder\n",
    "cars\n",
    "\n",
    "encoder_dict\n"
   ]
  },
  {
   "cell_type": "code",
   "execution_count": 73,
   "id": "3e25f741",
   "metadata": {},
   "outputs": [
    {
     "data": {
      "text/html": [
       "<div>\n",
       "<style scoped>\n",
       "    .dataframe tbody tr th:only-of-type {\n",
       "        vertical-align: middle;\n",
       "    }\n",
       "\n",
       "    .dataframe tbody tr th {\n",
       "        vertical-align: top;\n",
       "    }\n",
       "\n",
       "    .dataframe thead th {\n",
       "        text-align: right;\n",
       "    }\n",
       "</style>\n",
       "<table border=\"1\" class=\"dataframe\">\n",
       "  <thead>\n",
       "    <tr style=\"text-align: right;\">\n",
       "      <th></th>\n",
       "      <th>price</th>\n",
       "      <th>service</th>\n",
       "      <th>door</th>\n",
       "      <th>passenger</th>\n",
       "      <th>trunk</th>\n",
       "      <th>safe</th>\n",
       "      <th>level</th>\n",
       "    </tr>\n",
       "  </thead>\n",
       "  <tbody>\n",
       "    <tr>\n",
       "      <th>0</th>\n",
       "      <td>4</td>\n",
       "      <td>4</td>\n",
       "      <td>2</td>\n",
       "      <td>2</td>\n",
       "      <td>1</td>\n",
       "      <td>1</td>\n",
       "      <td>1</td>\n",
       "    </tr>\n",
       "    <tr>\n",
       "      <th>1</th>\n",
       "      <td>4</td>\n",
       "      <td>4</td>\n",
       "      <td>2</td>\n",
       "      <td>2</td>\n",
       "      <td>1</td>\n",
       "      <td>2</td>\n",
       "      <td>1</td>\n",
       "    </tr>\n",
       "    <tr>\n",
       "      <th>2</th>\n",
       "      <td>4</td>\n",
       "      <td>4</td>\n",
       "      <td>2</td>\n",
       "      <td>2</td>\n",
       "      <td>1</td>\n",
       "      <td>3</td>\n",
       "      <td>1</td>\n",
       "    </tr>\n",
       "    <tr>\n",
       "      <th>3</th>\n",
       "      <td>4</td>\n",
       "      <td>4</td>\n",
       "      <td>2</td>\n",
       "      <td>2</td>\n",
       "      <td>2</td>\n",
       "      <td>1</td>\n",
       "      <td>1</td>\n",
       "    </tr>\n",
       "    <tr>\n",
       "      <th>4</th>\n",
       "      <td>4</td>\n",
       "      <td>4</td>\n",
       "      <td>2</td>\n",
       "      <td>2</td>\n",
       "      <td>2</td>\n",
       "      <td>2</td>\n",
       "      <td>1</td>\n",
       "    </tr>\n",
       "    <tr>\n",
       "      <th>...</th>\n",
       "      <td>...</td>\n",
       "      <td>...</td>\n",
       "      <td>...</td>\n",
       "      <td>...</td>\n",
       "      <td>...</td>\n",
       "      <td>...</td>\n",
       "      <td>...</td>\n",
       "    </tr>\n",
       "    <tr>\n",
       "      <th>1723</th>\n",
       "      <td>1</td>\n",
       "      <td>1</td>\n",
       "      <td>5</td>\n",
       "      <td>5</td>\n",
       "      <td>2</td>\n",
       "      <td>2</td>\n",
       "      <td>3</td>\n",
       "    </tr>\n",
       "    <tr>\n",
       "      <th>1724</th>\n",
       "      <td>1</td>\n",
       "      <td>1</td>\n",
       "      <td>5</td>\n",
       "      <td>5</td>\n",
       "      <td>2</td>\n",
       "      <td>3</td>\n",
       "      <td>4</td>\n",
       "    </tr>\n",
       "    <tr>\n",
       "      <th>1725</th>\n",
       "      <td>1</td>\n",
       "      <td>1</td>\n",
       "      <td>5</td>\n",
       "      <td>5</td>\n",
       "      <td>3</td>\n",
       "      <td>1</td>\n",
       "      <td>1</td>\n",
       "    </tr>\n",
       "    <tr>\n",
       "      <th>1726</th>\n",
       "      <td>1</td>\n",
       "      <td>1</td>\n",
       "      <td>5</td>\n",
       "      <td>5</td>\n",
       "      <td>3</td>\n",
       "      <td>2</td>\n",
       "      <td>3</td>\n",
       "    </tr>\n",
       "    <tr>\n",
       "      <th>1727</th>\n",
       "      <td>1</td>\n",
       "      <td>1</td>\n",
       "      <td>5</td>\n",
       "      <td>5</td>\n",
       "      <td>3</td>\n",
       "      <td>3</td>\n",
       "      <td>4</td>\n",
       "    </tr>\n",
       "  </tbody>\n",
       "</table>\n",
       "<p>1728 rows × 7 columns</p>\n",
       "</div>"
      ],
      "text/plain": [
       "      price  service  door  passenger  trunk  safe  level\n",
       "0         4        4     2          2      1     1      1\n",
       "1         4        4     2          2      1     2      1\n",
       "2         4        4     2          2      1     3      1\n",
       "3         4        4     2          2      2     1      1\n",
       "4         4        4     2          2      2     2      1\n",
       "...     ...      ...   ...        ...    ...   ...    ...\n",
       "1723      1        1     5          5      2     2      3\n",
       "1724      1        1     5          5      2     3      4\n",
       "1725      1        1     5          5      3     1      1\n",
       "1726      1        1     5          5      3     2      3\n",
       "1727      1        1     5          5      3     3      4\n",
       "\n",
       "[1728 rows x 7 columns]"
      ]
     },
     "execution_count": 73,
     "metadata": {},
     "output_type": "execute_result"
    }
   ],
   "source": [
    "# 基于自定义的标签编码\n",
    "\n",
    "def my_label_encoder(data,col_name,trans_list):\n",
    "    encoder_df = pd.DataFrame(data[col_name].value_counts())\n",
    "    encoder_df = encoder_df.reset_index()\n",
    "    encoder_df[col_name]=encoder_df[\"index\"]\n",
    "    encoder_df[\"label\"]=pd.Series(trans_list)\n",
    "    \n",
    "\n",
    "    temp = pd.merge(data[col_name], encoder_df, on=col_name, how=\"left\")\n",
    "    data[col_name]=temp[\"label\"]\n",
    "    \n",
    "\n",
    "\n",
    "\n",
    "data = cars.copy()\n",
    "my_label_encoder(data,data.columns[0],[4,3,2,1])\n",
    "my_label_encoder(data,data.columns[1],[4,3,2,1])\n",
    "my_label_encoder(data,data.columns[2],[2,3,4,5])\n",
    "my_label_encoder(data,data.columns[3],[2,4,5])\n",
    "my_label_encoder(data,data.columns[4],[1,2,3])\n",
    "my_label_encoder(data,data.columns[5],[1,2,3])\n",
    "my_label_encoder(data,data.columns[6],[1,2,3,4])\n",
    "\n",
    "\n",
    "\n",
    "data\n",
    "    "
   ]
  },
  {
   "cell_type": "code",
   "execution_count": 74,
   "id": "92f8b8be",
   "metadata": {},
   "outputs": [
    {
     "name": "stdout",
     "output_type": "stream",
     "text": [
      "(1382, 6)\n",
      "(346, 6)\n",
      "1    242\n",
      "2     77\n",
      "3     14\n",
      "4     13\n",
      "Name: level, dtype: int64\n"
     ]
    }
   ],
   "source": [
    "# 整理输入集与输出集\n",
    "x = data.iloc[:,:-1] #取后100个数据，只涉及二分类\n",
    "y = data.iloc[:,-1] #取后100个数据，只涉及二分类\n",
    "\n",
    "train_x,test_x,train_y,test_y = ms.train_test_split(x,y,test_size=0.2,random_state=7,stratify=y)\n",
    "#stratify=y，将训练集和检测集按类型等比例抽取，防止训练于检测样本类型分布不匹配！\n",
    "print(train_x.shape)\n",
    "print(test_x.shape)\n",
    "print(test_y.value_counts())\n",
    "\n",
    "\n"
   ]
  },
  {
   "cell_type": "code",
   "execution_count": 75,
   "id": "e2f2952d",
   "metadata": {},
   "outputs": [
    {
     "name": "stdout",
     "output_type": "stream",
     "text": [
      "5次交叉验证精确度分数： 0.7761078998073218\n"
     ]
    },
    {
     "name": "stderr",
     "output_type": "stream",
     "text": [
      "e:\\python_projects_wj\\test_machine_learning\\venv\\lib\\site-packages\\sklearn\\metrics\\_classification.py:1248: UndefinedMetricWarning: Precision is ill-defined and being set to 0.0 in labels with no predicted samples. Use `zero_division` parameter to control this behavior.\n",
      "  _warn_prf(average, modifier, msg_start, len(result))\n",
      "e:\\python_projects_wj\\test_machine_learning\\venv\\lib\\site-packages\\sklearn\\metrics\\_classification.py:1248: UndefinedMetricWarning: Precision is ill-defined and being set to 0.0 in labels with no predicted samples. Use `zero_division` parameter to control this behavior.\n",
      "  _warn_prf(average, modifier, msg_start, len(result))\n",
      "e:\\python_projects_wj\\test_machine_learning\\venv\\lib\\site-packages\\sklearn\\metrics\\_classification.py:1248: UndefinedMetricWarning: Precision is ill-defined and being set to 0.0 in labels with no predicted samples. Use `zero_division` parameter to control this behavior.\n",
      "  _warn_prf(average, modifier, msg_start, len(result))\n"
     ]
    },
    {
     "name": "stdout",
     "output_type": "stream",
     "text": [
      "5次交叉验证查准率分数： 0.750848901925902\n",
      "5次交叉验证召回率分数： 0.7761078998073218\n",
      "5次交叉验证f1分数： 0.755538699605307\n"
     ]
    }
   ],
   "source": [
    "# 创建分类模型，做5次交叉验证，验证模型是否可用\n",
    "# 如果分数还可以，在正儿八经的训练模型\n",
    "\n",
    "\n",
    "# model_RF=se.GradientBoostingClassifier(max_depth=5,min_samples_split=3,n_estimators=200,random_state=7)\n",
    "model_RF=se.RandomForestClassifier(max_depth=5,min_samples_split=3,n_estimators=200,random_state=7)\n",
    "\n",
    "#做5次交叉验证\n",
    "scores = ms.cross_val_score(model_RF,x,y,cv=5,scoring=\"accuracy\")\n",
    "print(\"5次交叉验证精确度分数：\",scores.mean())\n",
    "scores = ms.cross_val_score(model_RF,x,y,cv=5,scoring=\"precision_weighted\")\n",
    "print(\"5次交叉验证查准率分数：\",scores.mean())\n",
    "scores = ms.cross_val_score(model_RF,x,y,cv=5,scoring=\"recall_weighted\")\n",
    "print(\"5次交叉验证召回率分数：\",scores.mean())\n",
    "scores = ms.cross_val_score(model_RF,x,y,cv=5,scoring=\"f1_weighted\")\n",
    "print(\"5次交叉验证f1分数：\",scores.mean())\n"
   ]
  },
  {
   "cell_type": "code",
   "execution_count": 76,
   "id": "d1c0252e",
   "metadata": {},
   "outputs": [
    {
     "name": "stdout",
     "output_type": "stream",
     "text": [
      "[[235   7   0   0]\n",
      " [  4  73   0   0]\n",
      " [  0  14   0   0]\n",
      " [  0  10   0   3]]\n",
      "              precision    recall  f1-score   support\n",
      "\n",
      "           1       0.98      0.97      0.98       242\n",
      "           2       0.70      0.95      0.81        77\n",
      "           3       0.00      0.00      0.00        14\n",
      "           4       1.00      0.23      0.38        13\n",
      "\n",
      "    accuracy                           0.90       346\n",
      "   macro avg       0.67      0.54      0.54       346\n",
      "weighted avg       0.88      0.90      0.88       346\n",
      "\n"
     ]
    },
    {
     "name": "stderr",
     "output_type": "stream",
     "text": [
      "e:\\python_projects_wj\\test_machine_learning\\venv\\lib\\site-packages\\sklearn\\metrics\\_classification.py:1248: UndefinedMetricWarning: Precision and F-score are ill-defined and being set to 0.0 in labels with no predicted samples. Use `zero_division` parameter to control this behavior.\n",
      "  _warn_prf(average, modifier, msg_start, len(result))\n",
      "e:\\python_projects_wj\\test_machine_learning\\venv\\lib\\site-packages\\sklearn\\metrics\\_classification.py:1248: UndefinedMetricWarning: Precision and F-score are ill-defined and being set to 0.0 in labels with no predicted samples. Use `zero_division` parameter to control this behavior.\n",
      "  _warn_prf(average, modifier, msg_start, len(result))\n",
      "e:\\python_projects_wj\\test_machine_learning\\venv\\lib\\site-packages\\sklearn\\metrics\\_classification.py:1248: UndefinedMetricWarning: Precision and F-score are ill-defined and being set to 0.0 in labels with no predicted samples. Use `zero_division` parameter to control this behavior.\n",
      "  _warn_prf(average, modifier, msg_start, len(result))\n"
     ]
    }
   ],
   "source": [
    "# 模型评估\n",
    "# train_x=x\n",
    "# train_y=y\n",
    "# test_x=x\n",
    "# test_y=y\n",
    "\n",
    "model_RF.fit(train_x,train_y)\n",
    "pred_test_y = model_RF.predict(test_x)\n",
    "\n",
    "m = sm.confusion_matrix(test_y,pred_test_y)\n",
    "print(m)\n",
    "cr = sm.classification_report(test_y,pred_test_y)\n",
    "print(cr)"
   ]
  },
  {
   "cell_type": "code",
   "execution_count": null,
   "id": "edafb8bd",
   "metadata": {},
   "outputs": [],
   "source": []
  },
  {
   "cell_type": "code",
   "execution_count": null,
   "id": "a5fab748",
   "metadata": {},
   "outputs": [],
   "source": []
  },
  {
   "cell_type": "code",
   "execution_count": null,
   "id": "b94a0911",
   "metadata": {},
   "outputs": [],
   "source": []
  },
  {
   "cell_type": "code",
   "execution_count": null,
   "id": "d5733770",
   "metadata": {},
   "outputs": [],
   "source": []
  },
  {
   "cell_type": "code",
   "execution_count": null,
   "id": "bf4ca62f",
   "metadata": {},
   "outputs": [],
   "source": []
  },
  {
   "cell_type": "code",
   "execution_count": null,
   "id": "d2c3ab17",
   "metadata": {},
   "outputs": [],
   "source": []
  },
  {
   "cell_type": "code",
   "execution_count": null,
   "id": "dee65d7f",
   "metadata": {},
   "outputs": [],
   "source": []
  }
 ],
 "metadata": {
  "kernelspec": {
   "display_name": "Python 3 (ipykernel)",
   "language": "python",
   "name": "python3"
  },
  "language_info": {
   "codemirror_mode": {
    "name": "ipython",
    "version": 3
   },
   "file_extension": ".py",
   "mimetype": "text/x-python",
   "name": "python",
   "nbconvert_exporter": "python",
   "pygments_lexer": "ipython3",
   "version": "3.9.4"
  }
 },
 "nbformat": 4,
 "nbformat_minor": 5
}
